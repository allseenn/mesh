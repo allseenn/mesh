{
  "nbformat": 4,
  "nbformat_minor": 0,
  "metadata": {
    "colab": {
      "provenance": [],
      "authorship_tag": "ABX9TyMkHh1Eesb2WFM6uDzInbFF",
      "include_colab_link": true
    },
    "kernelspec": {
      "name": "python3",
      "display_name": "Python 3"
    },
    "language_info": {
      "name": "python"
    }
  },
  "cells": [
    {
      "cell_type": "markdown",
      "metadata": {
        "id": "view-in-github",
        "colab_type": "text"
      },
      "source": [
        "<a href=\"https://colab.research.google.com/github/allseenn/mesh/blob/main/04.Tasks/hw04.ipynb\" target=\"_parent\"><img src=\"https://colab.research.google.com/assets/colab-badge.svg\" alt=\"Open In Colab\"/></a>"
      ]
    },
    {
      "cell_type": "markdown",
      "source": [
        "# Распределенные системы и сети (семинары)\n",
        "\n",
        "## Урок 4. Распределённые системы\n",
        "\n",
        "### ДЗ\n",
        "\n",
        "1. Прислать результаты выполненных запросов через Swagger UI и Postman.\n",
        "\n",
        "2. Прислать скрипт на любом удобном языке программирования, где через API будут созданы 10 устройств (все переменные должны задаваться в коде, списком или массивом, но одной строкой), будет запрошена информация о 10 устройствах, будут обновлены имена 10 устройств, будут удалены 10 устройств.\n",
        "\n",
        "Желательно использовать Python через Google Collab. Для сдачи ДЗ студент должен предоставить преподавателю ссылку с доступом к блокноту с кодом (перед отправкой ДЗ проверьте, что ссылка открывается в приватном режиме браузера)."
      ],
      "metadata": {
        "id": "NVESa-wkV9YX"
      }
    },
    {
      "cell_type": "markdown",
      "source": [
        "## Решение\n",
        "\n",
        "### ChirpStack\n",
        "\n",
        "Создание API\n",
        "\n",
        "<img src=\"https://github.com/allseenn/mesh/blob/main/04.Tasks/pics/01.png?raw=true\">\n",
        "\n",
        "Applications\n",
        "\n",
        "<img src=\"https://github.com/allseenn/mesh/blob/main/04.Tasks/pics/03.png?raw=true\">\n",
        "\n",
        "\n",
        "### ChirpStack API\n",
        "\n",
        "<img src='https://github.com/allseenn/mesh/blob/main/04.Tasks/pics/04.png?raw=true'>\n",
        "\n",
        "Bearer\n",
        "\n",
        "<img src='https://github.com/allseenn/mesh/blob/main/04.Tasks/pics/05.png?raw=true'>\n",
        "\n",
        "\n",
        "GET\n",
        "\n",
        "<img src='https://github.com/allseenn/mesh/blob/main/04.Tasks/pics/06.png?raw=true'>\n",
        "\n",
        "\n",
        "Responses\n",
        "\n",
        "<img src='https://github.com/allseenn/mesh/blob/main/04.Tasks/pics/07.png?raw=true'>"
      ],
      "metadata": {
        "id": "ENxXY3ofZxIT"
      }
    }
  ]
}